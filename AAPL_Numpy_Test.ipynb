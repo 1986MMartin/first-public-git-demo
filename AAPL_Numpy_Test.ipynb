{
  "nbformat": 4,
  "nbformat_minor": 0,
  "metadata": {
    "colab": {
      "name": "AAPL_Numpy_Test.ipynb",
      "provenance": [],
      "collapsed_sections": [],
      "authorship_tag": "ABX9TyNiQosc8LTJi17PaAbUfYKl",
      "include_colab_link": true
    },
    "kernelspec": {
      "name": "python3",
      "display_name": "Python 3"
    }
  },
  "cells": [
    {
      "cell_type": "markdown",
      "metadata": {
        "id": "view-in-github",
        "colab_type": "text"
      },
      "source": [
        "<a href=\"https://colab.research.google.com/github/1986MMartin/first-public-git-demo/blob/main/AAPL_Numpy_Test.ipynb\" target=\"_parent\"><img src=\"https://colab.research.google.com/assets/colab-badge.svg\" alt=\"Open In Colab\"/></a>"
      ]
    },
    {
      "cell_type": "code",
      "metadata": {
        "id": "2RHfMXwOpieq"
      },
      "source": [
        "import pandas_datareader as pdr\r\n",
        "import datetime as dt\r\n",
        "import matplotlib.pyplot as plt\r\n",
        "\r\n",
        "aapl = pdr.get_data_yahoo('AAPL', start=dt.datetime(2017,1,1), end=dt.datetime.today())\r\n",
        "\r\n",
        "last10days = aapl['Adj Close'].tail(15).plot()\r\n",
        "print(aapl['Adj Close'].tail(15))\r\n",
        "\r\n",
        "plt.show(last10days)"
      ],
      "execution_count": null,
      "outputs": []
    },
    {
      "cell_type": "code",
      "metadata": {
        "id": "HpRkap1Ef663"
      },
      "source": [
        "aapl.tail()"
      ],
      "execution_count": null,
      "outputs": []
    },
    {
      "cell_type": "code",
      "metadata": {
        "id": "J6Fw0wZBJGNU"
      },
      "source": [
        "import plotly.graph_objects as go\r\n",
        "\r\n",
        "figure = go.Figure(\r\n",
        "    data = [\r\n",
        "            go.Candlestick(\r\n",
        "                x = aapl.index,\r\n",
        "                low = aapl['Low'],\r\n",
        "                high = aapl['High'],\r\n",
        "                close = aapl['Close'],\r\n",
        "                open = aapl['Open'],\r\n",
        "                increasing_line_color = 'green',\r\n",
        "                decreasing_line_color = 'red'\r\n",
        "            )\r\n",
        "    ]\r\n",
        ")\r\n",
        "figure.show()"
      ],
      "execution_count": null,
      "outputs": []
    },
    {
      "cell_type": "code",
      "metadata": {
        "id": "CVQErSwsf3qn"
      },
      "source": [
        ""
      ],
      "execution_count": null,
      "outputs": []
    }
  ]
}